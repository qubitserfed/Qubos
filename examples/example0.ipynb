{
 "cells": [
  {
   "cell_type": "code",
   "execution_count": 1,
   "id": "dd86e3b5",
   "metadata": {},
   "outputs": [],
   "source": [
    "import Qubos as Q\n",
    "from IPython.display import Math"
   ]
  },
  {
   "cell_type": "markdown",
   "id": "c80630d3",
   "metadata": {},
   "source": [
    "## Working with States\n",
    "\n",
    "Qubos defines two main classes: `State` and `Map`. We'll start by looking at the `State` class and what it can do. Let's first define a `State` object consisting of 3 qubits, all in the ground state (i.e. the state $|000\\rangle$)."
   ]
  },
  {
   "cell_type": "code",
   "execution_count": 2,
   "id": "d88fdf06",
   "metadata": {},
   "outputs": [
    {
     "data": {
      "text/plain": [
       "<Qubos.Extension.State at 0x107f57a70>"
      ]
     },
     "execution_count": 2,
     "metadata": {},
     "output_type": "execute_result"
    }
   ],
   "source": [
    "my_qubits = Q.State(3)\n",
    "my_qubits"
   ]
  },
  {
   "cell_type": "markdown",
   "id": "a6ad8cf1",
   "metadata": {},
   "source": [
    "If you want to visualize the state, you can use the `.to_latex()` function:"
   ]
  },
  {
   "cell_type": "code",
   "execution_count": 3,
   "id": "de227653",
   "metadata": {},
   "outputs": [
    {
     "data": {
      "text/latex": [
       "$\\displaystyle |000\\rangle$"
      ],
      "text/plain": [
       "<IPython.core.display.Math object>"
      ]
     },
     "execution_count": 3,
     "metadata": {},
     "output_type": "execute_result"
    }
   ],
   "source": [
    "Q.to_latex(my_qubits)"
   ]
  },
  {
   "cell_type": "markdown",
   "id": "9a3a9b09",
   "metadata": {},
   "source": [
    "If you forget how many qubits are in the state, you can use the `.n()` method:"
   ]
  },
  {
   "cell_type": "code",
   "execution_count": 4,
   "id": "ab313db5",
   "metadata": {},
   "outputs": [
    {
     "data": {
      "text/plain": [
       "3"
      ]
     },
     "execution_count": 4,
     "metadata": {},
     "output_type": "execute_result"
    }
   ],
   "source": [
    "my_qubits.n()"
   ]
  },
  {
   "cell_type": "markdown",
   "id": "a806fec0",
   "metadata": {},
   "source": [
    "One can also apply any Clifford unitaries to the state:\n",
    "* `apply_h(state, pos)` applies a Hadamard to the qubit at position `pos`\n",
    "* `apply_cx(state, pos0, pos1)` applies a CNOT with the qubit at position `pos0` as control and the qubit at position `pos1` as target\n",
    "* `apply_s(state, pos)` applies an S gate to the qubit at position `pos`\n",
    "* `apply_swap(state, pos0, pos1)` applies a SWAP gate with the qubit at position `pos0` and the qubit at position `pos1`\n",
    "* `apply_x(state, pos)` applies an X gate to the qubit at position `pos`\n",
    "* `apply_z(state, pos)` applies a Z gate to the qubit at position `pos`\n"
   ]
  },
  {
   "cell_type": "code",
   "execution_count": 5,
   "id": "db72b317",
   "metadata": {},
   "outputs": [
    {
     "data": {
      "text/latex": [
       "$\\displaystyle \\frac{1}{\\sqrt{2}}\\left(|000\\rangle+i|111\\rangle\\right)$"
      ],
      "text/plain": [
       "<IPython.core.display.Math object>"
      ]
     },
     "execution_count": 5,
     "metadata": {},
     "output_type": "execute_result"
    }
   ],
   "source": [
    "Q.apply_h(my_qubits, 0)     # applies a Hadamard to the first qubit\n",
    "Q.apply_cx(my_qubits, 0, 1) # applies a CNOT with the first qubit as control and the second as target\n",
    "Q.apply_cx(my_qubits, 1, 2) # applies a CNOT with the second qubit as control and the third as target\n",
    "Q.apply_s(my_qubits, 0)     # applies an S gate to the first qubit\n",
    "Q.to_latex(my_qubits)"
   ]
  },
  {
   "cell_type": "markdown",
   "id": "771dea8c",
   "metadata": {},
   "source": [
    "Checking equality of states is as simple as:"
   ]
  },
  {
   "cell_type": "code",
   "execution_count": 6,
   "id": "80276187",
   "metadata": {},
   "outputs": [
    {
     "data": {
      "text/plain": [
       "[True, False]"
      ]
     },
     "execution_count": 6,
     "metadata": {},
     "output_type": "execute_result"
    }
   ],
   "source": [
    "state0 = Q.State(2)\n",
    "Q.apply_h(state0, 0)\n",
    "Q.apply_cx(state0, 0, 1)\n",
    "\n",
    "\n",
    "state1 = Q.State(2)\n",
    "Q.apply_h(state1, 1)\n",
    "Q.apply_cx(state1, 1, 0)\n",
    "\n",
    "[state0 == state1, state0 == my_qubits]"
   ]
  },
  {
   "cell_type": "markdown",
   "id": "259c180e",
   "metadata": {},
   "source": [
    "Part of the innovation of Qubos is that one can also append qubits and postselect on them while still accurately keeping track of the global phase. For example, the following code starts with a scalar state, appends a qubit, applies a Hadamard and then postselects on the first qubit being in the state $|0\\rangle$ - i.e. it computes the operation $\\langle 0 | H | 0 \\rangle$."
   ]
  },
  {
   "cell_type": "code",
   "execution_count": 7,
   "id": "d40bbdfa",
   "metadata": {},
   "outputs": [
    {
     "data": {
      "text/latex": [
       "$\\displaystyle \\frac{1}{\\sqrt{2}}$"
      ],
      "text/plain": [
       "<IPython.core.display.Math object>"
      ]
     },
     "execution_count": 7,
     "metadata": {},
     "output_type": "execute_result"
    }
   ],
   "source": [
    "my_qubits = Q.State()\n",
    "my_qubits.zero_prep()\n",
    "Q.apply_h(my_qubits, 0)\n",
    "my_qubits.zero_postselect(0) # postselects on the first qubit (on position 0) being in the state $|0\\rangle$\n",
    "\n",
    "Q.to_latex(my_qubits)"
   ]
  },
  {
   "cell_type": "markdown",
   "id": "20fd1edd",
   "metadata": {},
   "source": [
    "One can insert new qubits or postselect at arbitrary positions:"
   ]
  },
  {
   "cell_type": "code",
   "execution_count": 8,
   "id": "9aa5b732",
   "metadata": {},
   "outputs": [
    {
     "data": {
      "text/latex": [
       "$\\displaystyle |111\\rangle$"
      ],
      "text/plain": [
       "<IPython.core.display.Math object>"
      ]
     },
     "metadata": {},
     "output_type": "display_data"
    },
    {
     "data": {
      "text/latex": [
       "$\\displaystyle |1011\\rangle$"
      ],
      "text/plain": [
       "<IPython.core.display.Math object>"
      ]
     },
     "metadata": {},
     "output_type": "display_data"
    },
    {
     "data": {
      "text/latex": [
       "$\\displaystyle |111\\rangle$"
      ],
      "text/plain": [
       "<IPython.core.display.Math object>"
      ]
     },
     "metadata": {},
     "output_type": "display_data"
    },
    {
     "data": {
      "text/latex": [
       "$\\displaystyle 0$"
      ],
      "text/plain": [
       "<IPython.core.display.Math object>"
      ]
     },
     "metadata": {},
     "output_type": "display_data"
    }
   ],
   "source": [
    "my_qubits = Q.State()\n",
    "for i in range(3):\n",
    "    my_qubits.zero_prep(0)\n",
    "    Q.apply_x(my_qubits, 0)\n",
    "\n",
    "display(Q.to_latex(my_qubits)) # |111>\n",
    "\n",
    "my_qubits.zero_prep(1)\n",
    "display(Q.to_latex(my_qubits)) # |1011>\n",
    "\n",
    "my_qubits.zero_postselect(1)\n",
    "display(Q.to_latex(my_qubits)) # |111>\n",
    "\n",
    "my_qubits.zero_postselect(1)\n",
    "display(Q.to_latex(my_qubits)) # 0"
   ]
  },
  {
   "cell_type": "markdown",
   "id": "c0096c4f",
   "metadata": {},
   "source": [
    "## The Insides of a State\n",
    "\n",
    "Any non-zero stabilizer state $| \\psi \\rangle$ has the property that it can be written as follows:\n",
    "\n",
    "$$\n",
    "| \\psi \\rangle = e^\\frac{2 p i \\pi}{8} \\frac{1}{\\sqrt{2^m}} \\sum_{A \\vec{x} = \\vec{b}} i^{\\vec{x} \\cdot \\ell + \\vec{x}^\\intercal Q \\vec{x} } | x \\rangle\n",
    "$$\n",
    "\n",
    "where:\n",
    "* $A$ and $b$ are a boolean matrix and a vector of integers of size $n \\times m$ and $n$ respectively, defining a system of linear equations $A \\vec{x} = \\vec{b}$\n",
    "* $\\ell$ is a vector of integers of size $m$\n",
    "* $Q$ is a boolean matrix of size $m \\times m$\n",
    "* $p$ is an integer in the interval $\\{0, \\dots, 7\\}$\n",
    "* $m$ is an integer\n",
    "\n",
    "All of these correspond to the following methods of the `State` class:\n",
    "* `.is_zero()` returns a boolean corresponding to whether the state is the zero state $ $\n",
    "* `.magnitude()` corresponds to $m$\n",
    "* `.phase()` corresponds to $p$\n",
    "* `.affine_part()` returns a tuple with the numpy matrices corresponding to $A$ and $b$\n",
    "* `.phase_polynomial_matrix()` returns a numpy matrix corresponding to $Q$\n",
    "* `.lin_part()` returns a numpy vector corresponding to $\\ell$\n"
   ]
  },
  {
   "cell_type": "markdown",
   "id": "e0396572",
   "metadata": {},
   "source": [
    "## Working with Maps"
   ]
  },
  {
   "cell_type": "markdown",
   "id": "52127a4f",
   "metadata": {},
   "source": []
  }
 ],
 "metadata": {
  "kernelspec": {
   "display_name": ".venv",
   "language": "python",
   "name": "python3"
  },
  "language_info": {
   "codemirror_mode": {
    "name": "ipython",
    "version": 3
   },
   "file_extension": ".py",
   "mimetype": "text/x-python",
   "name": "python",
   "nbconvert_exporter": "python",
   "pygments_lexer": "ipython3",
   "version": "3.13.3"
  }
 },
 "nbformat": 4,
 "nbformat_minor": 5
}
